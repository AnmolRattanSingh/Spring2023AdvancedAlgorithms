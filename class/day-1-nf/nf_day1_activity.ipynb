{
 "cells": [
  {
   "cell_type": "markdown",
   "metadata": {
    "id": "_cnLyNm0ZlWm"
   },
   "source": [
    "# Network Flows Day 1 Implementation Activity"
   ]
  },
  {
   "cell_type": "markdown",
   "metadata": {},
   "source": [
    "Import the necessary libraries:\n",
    "- [NetworkX](https://networkx.org/)\n",
    "- [Matplotlib](https://matplotlib.org/)"
   ]
  },
  {
   "cell_type": "code",
   "execution_count": null,
   "metadata": {
    "id": "dZDOm093PNa1"
   },
   "outputs": [],
   "source": [
    "import networkx as nx\n",
    "import matplotlib.pyplot as plt"
   ]
  },
  {
   "cell_type": "markdown",
   "metadata": {
    "id": "q0A3hHEL_z4c"
   },
   "source": [
    "## Code to Draw Graph (for debugging)\n"
   ]
  },
  {
   "cell_type": "markdown",
   "metadata": {},
   "source": [
    "To create a graph, first use the ```DiGraph()``` function from networkx"
   ]
  },
  {
   "cell_type": "code",
   "execution_count": null,
   "metadata": {},
   "outputs": [],
   "source": [
    "# create the directed graph object\n",
    "graph = nx.DiGraph()"
   ]
  },
  {
   "cell_type": "markdown",
   "metadata": {},
   "source": [
    "Next, add nodes to the graph from a string of letters, and connect the nodes through edges while setting the capacities and current flows."
   ]
  },
  {
   "cell_type": "code",
   "execution_count": null,
   "metadata": {},
   "outputs": [],
   "source": [
    "# set up the graph to run the max flow algorithm on\n",
    "graph.add_nodes_from('ABCD')\n",
    "graph.add_edges_from([\n",
    "    ('A', 'B', {'capacity': 7, 'flow': 0}),\n",
    "    ('A', 'C', {'capacity': 5, 'flow': 0}),\n",
    "    ('B', 'C', {'capacity': 3, 'flow': 0}),\n",
    "    ('B', 'D', {'capacity': 5, 'flow': 0}),\n",
    "    ('C', 'D', {'capacity': 10, 'flow': 0}),\n",
    "])"
   ]
  },
  {
   "cell_type": "markdown",
   "metadata": {},
   "source": [
    "To be able to visualize this graph, networkx needs to know where you'll be placing your nodes. This will be your layout of the graph."
   ]
  },
  {
   "cell_type": "code",
   "execution_count": null,
   "metadata": {},
   "outputs": [],
   "source": [
    "# set up the layout of where you want each node to be drawn in relation to one\n",
    "# another (for debug purposes)\n",
    "layout = {\n",
    "    'A': [0, 1], 'B': [1, 1], 'C': [0, 0], 'D': [1, 0],\n",
    "}"
   ]
  },
  {
   "cell_type": "markdown",
   "metadata": {},
   "source": [
    "The ```draw_graph()``` function draws the current state of the graph given a \"graph\" with its edges and capacities along those edges and a \"layout\" of where the nodes should be placed."
   ]
  },
  {
   "cell_type": "code",
   "execution_count": null,
   "metadata": {
    "id": "f4OmSvnk8zuW"
   },
   "outputs": [],
   "source": [
    "def draw_graph(graph, layout):\n",
    "    \"\"\"\n",
    "    Draws a nice representation of a networkx graph object.\n",
    "    Source: https://notebooks.azure.com/coells/projects/100days/html/day%2049%20-%20ford-fulkerson.ipynb\n",
    "    \n",
    "    Args:\n",
    "        graph (networkx graph object): an undirected graph.\n",
    "        layout (dictionary): a dictionary with graph nodes stored as keys and positions \n",
    "            stored as the values. Note that positions are sequences of length 2.\n",
    "    \"\"\"\n",
    "\n",
    "    plt.figure(figsize=(12, 4))\n",
    "    plt.axis('off')\n",
    "\n",
    "    nx.draw_networkx_nodes(graph, layout, node_color='steelblue', node_size=600)\n",
    "    nx.draw_networkx_edges(graph, layout, edge_color='gray')\n",
    "    nx.draw_networkx_labels(graph, layout, font_color='white')\n",
    "\n",
    "    for u, v, e in graph.edges(data=True):\n",
    "        label = '{}/{}'.format(e['flow'], e['capacity'])\n",
    "        color = 'green' if e['flow'] < e['capacity'] else 'red'\n",
    "        x = layout[u][0] * .6 + layout[v][0] * .4\n",
    "        y = layout[u][1] * .6 + layout[v][1] * .4\n",
    "        t = plt.text(x, y, label, size=16, color=color, \n",
    "                     horizontalalignment='center', verticalalignment='center')\n",
    "\n",
    "    plt.show()"
   ]
  },
  {
   "cell_type": "markdown",
   "metadata": {},
   "source": [
    "So, to display the current state of the graph, run the below line of code"
   ]
  },
  {
   "cell_type": "code",
   "execution_count": null,
   "metadata": {},
   "outputs": [],
   "source": [
    "draw_graph(graph, layout)"
   ]
  },
  {
   "cell_type": "markdown",
   "metadata": {
    "id": "XKPi7tQ-uto6"
   },
   "source": [
    "## Max Flow Algorithm - Ford-Fulkerson"
   ]
  },
  {
   "cell_type": "markdown",
   "metadata": {},
   "source": [
    "Recall from NF Day 0 on finding Max Flow using the Ford-Fulkerson Algorithm."
   ]
  },
  {
   "cell_type": "markdown",
   "metadata": {
    "id": "ov0DzQ9cCVLt"
   },
   "source": [
    "### Find a source to sink path"
   ]
  },
  {
   "cell_type": "markdown",
   "metadata": {},
   "source": [
    "The ```find_path()``` function finds and returns an augmenting path from source to sink given the graph, source, sink, path, and currently visited nodes."
   ]
  },
  {
   "cell_type": "code",
   "execution_count": null,
   "metadata": {
    "id": "xQEziPXwSa0n"
   },
   "outputs": [],
   "source": [
    "def find_path(graph, source, sink, path, visited):\n",
    "    \"\"\"\n",
    "    A recursive algorithm that finds and returns an augmenting path from source to sink, if one exists.\n",
    "    \n",
    "    Args:\n",
    "        graph (networkx graph object): the graph to find the path for\n",
    "        source (string): the start of the path, taken from a list of nodes in the graph object\n",
    "        sink (string): the end of the path, taken from a list of nodes in the graph object\n",
    "        path (string): the full path of the graph, note that this is a \n",
    "            string of edges+residuals traversed\n",
    "        visited (set): a unique list of nodes already visited\n",
    "        \n",
    "    Returns:\n",
    "        Full path from source to sink (string)\n",
    "    \"\"\"\n",
    "\n",
    "    # residual graph needs edges going in both directions - undirected representation\n",
    "    residual_graph = graph.to_undirected()\n",
    "\n",
    "    # if you have reached the sink already, return the path\n",
    "    if source == sink:\n",
    "        return path\n",
    "\n",
    "    # go through edges in residual graph\n",
    "    for edge in residual_graph.edges(source, data=True):\n",
    "        edge_sink = edge[1]\n",
    "        edge_data = edge[2]\n",
    "\n",
    "        # determine if that edge was in the forward direction in the original graph\n",
    "        # and compute the residual based on this information\n",
    "        in_direction = graph.has_edge(source, edge_sink)\n",
    "        if in_direction:\n",
    "            residual = edge_data['capacity'] - edge_data['flow']\n",
    "        else:\n",
    "            residual = edge_data['flow']\n",
    "\n",
    "        # check for positive residual value and make sure the node hasn't already been\n",
    "        # visited as part of this path (no cycles)\n",
    "        if residual > 0 and not edge_sink in visited:\n",
    "            visited.add(edge_sink)\n",
    "            # recursively call this function until we reach the sink\n",
    "            result = find_path(graph, edge_sink, sink, path + [(edge,residual)], visited)\n",
    "\n",
    "            if result != None:\n",
    "                return result\n",
    "\n",
    "    # if we can't reach the sink from the source, return None      \n",
    "    return None"
   ]
  },
  {
   "cell_type": "markdown",
   "metadata": {
    "id": "dz5n_-OYDFJw"
   },
   "source": [
    "### Find max flow"
   ]
  },
  {
   "cell_type": "markdown",
   "metadata": {},
   "source": [
    "Using the previous ```find_path()``` function, try to update the graph with the current flow and return the maximum flow using the Ford-Fulkerson Algorithm."
   ]
  },
  {
   "cell_type": "code",
   "execution_count": null,
   "metadata": {
    "id": "2-1jnG0vTB-d"
   },
   "outputs": [],
   "source": [
    "def max_flow(graph, source, sink, layout):\n",
    "    \"\"\"\n",
    "    Finds and returns the maximum flow in the networkx graph object using the \n",
    "    Ford-Fulkerson Algorithm.\n",
    "\n",
    "    Args:\n",
    "        graph (networkx graph object): a networkx graph object\n",
    "        source (string): the starting node of the flow\n",
    "        sink (string): the end of the flow\n",
    "        layout (dictionary): a dictionary with graph nodes stored as keys and positions \n",
    "            stored as the values. Note that positions are sequences of length 2.\n",
    "    \n",
    "    Returns: length of maximum flow (int)\n",
    "    \"\"\"\n",
    "\n",
    "    # TODO: Your Code to find the maximum flow should go here.\n",
    "\n",
    "    draw_graph(graph, layout)\n",
    "    return 0"
   ]
  },
  {
   "cell_type": "markdown",
   "metadata": {},
   "source": [
    "### Visualization"
   ]
  },
  {
   "cell_type": "markdown",
   "metadata": {
    "id": "ksZViZWnDNhU"
   },
   "source": [
    "To check your result, run the following code."
   ]
  },
  {
   "cell_type": "code",
   "execution_count": null,
   "metadata": {
    "colab": {
     "base_uri": "https://localhost:8080/",
     "height": 265
    },
    "id": "_6-EUnP0bFC5",
    "outputId": "0b63fa3a-45f1-4c73-ae53-6a4543535488"
   },
   "outputs": [],
   "source": [
    "# maximum flow for this example problem should be 12\n",
    "print(\"Maximum flow: \", max_flow(graph, 'A', 'D', layout))"
   ]
  },
  {
   "cell_type": "markdown",
   "metadata": {
    "id": "F0JGzfs3ue14"
   },
   "source": [
    "## Max Flow Algorithm - Edmonds-Karp"
   ]
  },
  {
   "cell_type": "markdown",
   "metadata": {},
   "source": [
    "In today's class, we walked through the Edmonds-Karp Algorithm."
   ]
  },
  {
   "cell_type": "markdown",
   "metadata": {
    "id": "URvRTZxXvHYw"
   },
   "source": [
    "### Find a source to sink path"
   ]
  },
  {
   "cell_type": "markdown",
   "metadata": {},
   "source": [
    "How could you find the shortest path between source and sink?"
   ]
  },
  {
   "cell_type": "code",
   "execution_count": null,
   "metadata": {
    "id": "_Pjcf_VWvLt9"
   },
   "outputs": [],
   "source": [
    "def find_shortest_path(graph, source, sink):\n",
    "    \"\"\"\n",
    "    Finds and returns the shortest augmenting path from source to sink, if one exists.\n",
    "    \n",
    "    Args:\n",
    "        graph (networkx graph object): a networkx graph object\n",
    "        source (string): the starting node of the flow\n",
    "        sink (string): the end of the flow\n",
    "    \n",
    "    Returns: the shortest path from source to sink (string)\n",
    "    \"\"\"\n",
    "\n",
    "     # TODO: Input your code here.\n",
    "\n",
    "    return None"
   ]
  },
  {
   "cell_type": "markdown",
   "metadata": {
    "id": "OLMQ7cZovgaO"
   },
   "source": [
    "### Find max flow"
   ]
  },
  {
   "cell_type": "markdown",
   "metadata": {},
   "source": [
    "From finding the shortest path, how can you find the maximum flow?"
   ]
  },
  {
   "cell_type": "code",
   "execution_count": null,
   "metadata": {
    "id": "jKiFfZ43vihj"
   },
   "outputs": [],
   "source": [
    "def max_flow_ek(graph, source, sink, layout):\n",
    "    \"\"\"\n",
    "    Finds and returns the maximum flow in the networkx graph object using the \n",
    "    Edmonds-Karp Algorithm.\n",
    "\n",
    "    Args:\n",
    "        graph (networkx graph object): a networkx graph object\n",
    "        source (string): the starting node of the flow\n",
    "        sink (string): the end of the flow\n",
    "        layout (dictionary): a dictionary with graph nodes stored as keys and positions \n",
    "            stored as the values. Note that positions are sequences of length 2.\n",
    "    \n",
    "    Returns: length of maximum flow (int)\n",
    "    \"\"\"\n",
    "\n",
    "    # TODO: Your Code to find the maximum flow should go here.\n",
    "\n",
    "    draw_graph(graph, layout)\n",
    "    return 0"
   ]
  },
  {
   "cell_type": "markdown",
   "metadata": {
    "id": "du3qagAKvy8e"
   },
   "source": [
    "### Visualization"
   ]
  },
  {
   "cell_type": "markdown",
   "metadata": {},
   "source": [
    "Run this code to re-zero the example graph, and use your Edmonds-Karp Algorithm code to find the maximum flow."
   ]
  },
  {
   "cell_type": "code",
   "execution_count": null,
   "metadata": {
    "colab": {
     "base_uri": "https://localhost:8080/",
     "height": 265
    },
    "id": "ISIDU2k2vy8m",
    "outputId": "0b63fa3a-45f1-4c73-ae53-6a4543535488"
   },
   "outputs": [],
   "source": [
    "# create the directed graph object\n",
    "graph = nx.DiGraph()\n",
    "\n",
    "# set up the graph to run the max flow algorithm on\n",
    "graph.add_nodes_from('ABCD')\n",
    "graph.add_edges_from([\n",
    "    ('A', 'B', {'capacity': 7, 'flow': 0}),\n",
    "    ('A', 'C', {'capacity': 5, 'flow': 0}),\n",
    "    ('B', 'C', {'capacity': 3, 'flow': 0}),\n",
    "    ('B', 'D', {'capacity': 5, 'flow': 0}),\n",
    "    ('C', 'D', {'capacity': 10, 'flow': 0}),\n",
    "])\n",
    "\n",
    "# set up the layout of where you want each node to be drawn in relation to one\n",
    "# another (for debug purposes)\n",
    "layout = {\n",
    "    'A': [0, 1], 'B': [1, 1], 'C': [0, 0], 'D': [1, 0],\n",
    "}\n",
    "\n",
    "# maximum flow for this example problem should be 12\n",
    "print(\"Maximum flow: \", max_flow_ek(graph, 'A', 'D', layout))"
   ]
  }
 ],
 "metadata": {
  "colab": {
   "collapsed_sections": [],
   "name": "nf_day1_activity_solution.ipynb",
   "provenance": []
  },
  "kernelspec": {
   "display_name": "Python 3.10.6 64-bit",
   "language": "python",
   "name": "python3"
  },
  "language_info": {
   "codemirror_mode": {
    "name": "ipython",
    "version": 3
   },
   "file_extension": ".py",
   "mimetype": "text/x-python",
   "name": "python",
   "nbconvert_exporter": "python",
   "pygments_lexer": "ipython3",
   "version": "3.10.6"
  },
  "vscode": {
   "interpreter": {
    "hash": "916dbcbb3f70747c44a77c7bcd40155683ae19c65e1c03b4aa3499c5328201f1"
   }
  }
 },
 "nbformat": 4,
 "nbformat_minor": 1
}
